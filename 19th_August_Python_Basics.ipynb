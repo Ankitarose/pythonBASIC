{
 "cells": [
  {
   "cell_type": "markdown",
   "id": "0d89f9ed-87c4-47b7-8d5b-f1a0ac4cf738",
   "metadata": {},
   "source": [
    "'''1. Declare two variables, `x` and `y`, and assign them integer values. Swap the\n",
    "values of these variables without using any temporary variable.\n"
   ]
  },
  {
   "cell_type": "code",
   "execution_count": 1,
   "id": "90a268d5-9544-40fd-b793-4a49a40094d7",
   "metadata": {},
   "outputs": [],
   "source": [
    "x= 10\n",
    "y= 15"
   ]
  },
  {
   "cell_type": "code",
   "execution_count": 2,
   "id": "3b8049bf-6d4b-4b10-9845-c82ea6f8d3a8",
   "metadata": {},
   "outputs": [],
   "source": [
    "x,y=y,x"
   ]
  },
  {
   "cell_type": "code",
   "execution_count": 3,
   "id": "bd37286a-2695-416f-a094-89535e3e8b81",
   "metadata": {},
   "outputs": [
    {
     "data": {
      "text/plain": [
       "10"
      ]
     },
     "execution_count": 3,
     "metadata": {},
     "output_type": "execute_result"
    }
   ],
   "source": [
    "y"
   ]
  },
  {
   "cell_type": "code",
   "execution_count": 4,
   "id": "0f092273-b16e-4149-a367-563a98bdfc81",
   "metadata": {},
   "outputs": [
    {
     "data": {
      "text/plain": [
       "15"
      ]
     },
     "execution_count": 4,
     "metadata": {},
     "output_type": "execute_result"
    }
   ],
   "source": [
    "x"
   ]
  },
  {
   "cell_type": "code",
   "execution_count": 5,
   "id": "e553df5f-2ddb-477c-ba5f-57afa97c7c4f",
   "metadata": {},
   "outputs": [
    {
     "data": {
      "text/plain": [
       "'2. Create a program that calculates the area of a rectangle. Take the length and\\nwidth as inputs from the user and store them in variables. Calculate and\\ndisplay the area.'"
      ]
     },
     "execution_count": 5,
     "metadata": {},
     "output_type": "execute_result"
    }
   ],
   "source": [
    "'''2. Create a program that calculates the area of a rectangle. Take the length and\n",
    "width as inputs from the user and store them in variables. Calculate and\n",
    "display the area.'''"
   ]
  },
  {
   "cell_type": "code",
   "execution_count": 6,
   "id": "b95b224a-d261-41ab-b891-178eef54097a",
   "metadata": {},
   "outputs": [
    {
     "name": "stdin",
     "output_type": "stream",
     "text": [
      "Enter the length of the rectangle : 10\n"
     ]
    }
   ],
   "source": [
    "l = int(input('Enter the length of the rectangle :'))"
   ]
  },
  {
   "cell_type": "code",
   "execution_count": 7,
   "id": "65e22d56-c37a-4781-930d-3f4f34b88c76",
   "metadata": {},
   "outputs": [
    {
     "data": {
      "text/plain": [
       "10"
      ]
     },
     "execution_count": 7,
     "metadata": {},
     "output_type": "execute_result"
    }
   ],
   "source": [
    "l"
   ]
  },
  {
   "cell_type": "code",
   "execution_count": 8,
   "id": "10887f73-9930-4182-8423-063a2b8826f9",
   "metadata": {},
   "outputs": [
    {
     "name": "stdin",
     "output_type": "stream",
     "text": [
      "Enter the breath of the rectangle : 5\n"
     ]
    }
   ],
   "source": [
    "b = int(input('Enter the breath of the rectangle :'))"
   ]
  },
  {
   "cell_type": "code",
   "execution_count": 9,
   "id": "9f3364a7-5a7e-4686-a670-6d320d5fb783",
   "metadata": {},
   "outputs": [
    {
     "data": {
      "text/plain": [
       "5"
      ]
     },
     "execution_count": 9,
     "metadata": {},
     "output_type": "execute_result"
    }
   ],
   "source": [
    "b"
   ]
  },
  {
   "cell_type": "code",
   "execution_count": 10,
   "id": "1c6f8fd2-afcb-46fe-8d9e-38bd91ba40d1",
   "metadata": {},
   "outputs": [],
   "source": [
    "A = l * b"
   ]
  },
  {
   "cell_type": "code",
   "execution_count": 11,
   "id": "c938c2cd-dfa1-45b0-a707-37e8e0a5076e",
   "metadata": {},
   "outputs": [
    {
     "data": {
      "text/plain": [
       "50"
      ]
     },
     "execution_count": 11,
     "metadata": {},
     "output_type": "execute_result"
    }
   ],
   "source": [
    "A"
   ]
  },
  {
   "cell_type": "code",
   "execution_count": 12,
   "id": "8c21c819-64c7-4e3b-917a-98d048728d17",
   "metadata": {},
   "outputs": [
    {
     "data": {
      "text/plain": [
       "'Write a Python program that converts temperatures from Celsius to\\nFahrenheit. Take the temperature in Celsius as input, store it in a variable,\\nconvert it to Fahrenheit, and display the result.'"
      ]
     },
     "execution_count": 12,
     "metadata": {},
     "output_type": "execute_result"
    }
   ],
   "source": [
    "'''Write a Python program that converts temperatures from Celsius to\n",
    "Fahrenheit. Take the temperature in Celsius as input, store it in a variable,\n",
    "convert it to Fahrenheit, and display the result.'''"
   ]
  },
  {
   "cell_type": "code",
   "execution_count": 13,
   "id": "b9726528-3506-45c7-99d7-c93c6c2471f7",
   "metadata": {},
   "outputs": [
    {
     "name": "stdin",
     "output_type": "stream",
     "text": [
      "Enter the temp in celsius : 37\n"
     ]
    }
   ],
   "source": [
    "celsius=float( input('Enter the temp in celsius :'))"
   ]
  },
  {
   "cell_type": "code",
   "execution_count": 14,
   "id": "76606861-9431-41e4-a561-2c4b51883081",
   "metadata": {},
   "outputs": [
    {
     "data": {
      "text/plain": [
       "37.0"
      ]
     },
     "execution_count": 14,
     "metadata": {},
     "output_type": "execute_result"
    }
   ],
   "source": [
    "celsius"
   ]
  },
  {
   "cell_type": "code",
   "execution_count": 15,
   "id": "c32aa99c-d4ee-4dab-8542-1abd936a3a12",
   "metadata": {},
   "outputs": [],
   "source": [
    "Fahrenheit = ( celsius * 9/5 ) + 32"
   ]
  },
  {
   "cell_type": "code",
   "execution_count": 16,
   "id": "c57d9673-3bf8-45c4-aa23-a8aaeb74b202",
   "metadata": {},
   "outputs": [
    {
     "data": {
      "text/plain": [
       "98.6"
      ]
     },
     "execution_count": 16,
     "metadata": {},
     "output_type": "execute_result"
    }
   ],
   "source": [
    "Fahrenheit"
   ]
  },
  {
   "cell_type": "code",
   "execution_count": 17,
   "id": "73b6c2eb-ef4a-4dc4-a802-d98dec06f4a7",
   "metadata": {},
   "outputs": [
    {
     "data": {
      "text/plain": [
       "' TOPIC STRING BASED QUESION'"
      ]
     },
     "execution_count": 17,
     "metadata": {},
     "output_type": "execute_result"
    }
   ],
   "source": [
    "''' TOPIC STRING BASED QUESION'''"
   ]
  },
  {
   "cell_type": "code",
   "execution_count": 18,
   "id": "5a3c8dcf-4e80-4794-bc2b-964d6763668e",
   "metadata": {},
   "outputs": [],
   "source": [
    "#1. Write a Python program that takes a string as input and prints the length of the string.\n"
   ]
  },
  {
   "cell_type": "code",
   "execution_count": 19,
   "id": "473cb86e-bb6a-41f2-be55-7acf65105d1c",
   "metadata": {},
   "outputs": [
    {
     "name": "stdin",
     "output_type": "stream",
     "text": [
      "Enter the string : beautiful person\n"
     ]
    }
   ],
   "source": [
    "str =  input('Enter the string :')"
   ]
  },
  {
   "cell_type": "code",
   "execution_count": 20,
   "id": "dcd848a6-fdfd-4ee6-ba8b-9902c9d684ca",
   "metadata": {},
   "outputs": [
    {
     "data": {
      "text/plain": [
       "'beautiful person'"
      ]
     },
     "execution_count": 20,
     "metadata": {},
     "output_type": "execute_result"
    }
   ],
   "source": [
    "str"
   ]
  },
  {
   "cell_type": "code",
   "execution_count": 21,
   "id": "4b96c95c-af28-492b-aef5-2011f200fab2",
   "metadata": {},
   "outputs": [],
   "source": [
    "len = len(str)"
   ]
  },
  {
   "cell_type": "code",
   "execution_count": 22,
   "id": "a3000c10-50ff-4f98-875f-2ef92fe281a6",
   "metadata": {},
   "outputs": [
    {
     "data": {
      "text/plain": [
       "16"
      ]
     },
     "execution_count": 22,
     "metadata": {},
     "output_type": "execute_result"
    }
   ],
   "source": [
    "len"
   ]
  },
  {
   "cell_type": "code",
   "execution_count": 23,
   "id": "2acefd1a-c7a3-4f53-93f6-7be2e4fa7d5c",
   "metadata": {},
   "outputs": [],
   "source": [
    "#2. Create a program that takes a sentence from the user and counts the number of vowels (a, e, i, o, u) in the string.\n"
   ]
  },
  {
   "cell_type": "code",
   "execution_count": 24,
   "id": "4b902382-1c81-4aec-ae2f-0e96c6a2c8b9",
   "metadata": {},
   "outputs": [
    {
     "name": "stdin",
     "output_type": "stream",
     "text": [
      "Enter the string : honest person\n"
     ]
    }
   ],
   "source": [
    "str1 = input('Enter the string :')\n"
   ]
  },
  {
   "cell_type": "code",
   "execution_count": 25,
   "id": "6f2c119c-0f1f-4400-979e-082718dd438b",
   "metadata": {},
   "outputs": [
    {
     "data": {
      "text/plain": [
       "'honest person'"
      ]
     },
     "execution_count": 25,
     "metadata": {},
     "output_type": "execute_result"
    }
   ],
   "source": [
    "str1"
   ]
  },
  {
   "cell_type": "code",
   "execution_count": null,
   "id": "d839b316-c31c-4fd6-9cf1-d17098a28b29",
   "metadata": {},
   "outputs": [],
   "source": []
  },
  {
   "cell_type": "code",
   "execution_count": 26,
   "id": "0069d808-070c-44f7-81cf-1a296960b315",
   "metadata": {},
   "outputs": [
    {
     "name": "stdout",
     "output_type": "stream",
     "text": [
      "4\n"
     ]
    }
   ],
   "source": [
    "\n",
    "c= 0\n",
    "for i in str1 :\n",
    "    if i == 'a' or i =='e' or i == 'i' or i =='u'  or i== 'o':\n",
    "        c = c + 1\n",
    "    else :\n",
    "        continue\n",
    "print(c)"
   ]
  },
  {
   "cell_type": "code",
   "execution_count": null,
   "id": "4b56d932-3c6e-4195-a854-c785b3e455cc",
   "metadata": {},
   "outputs": [],
   "source": [
    "'''3....Given a string, reverse the order of characters using string slicing and print\n",
    "the reversed string.'''"
   ]
  },
  {
   "cell_type": "code",
   "execution_count": 29,
   "id": "429a68b5-f80f-4609-aeeb-90777224c868",
   "metadata": {},
   "outputs": [
    {
     "name": "stdin",
     "output_type": "stream",
     "text": [
      "Enter  the string to reverse roof\n"
     ]
    }
   ],
   "source": [
    "txt = input('Enter  the string to reverse')\n"
   ]
  },
  {
   "cell_type": "code",
   "execution_count": 36,
   "id": "55b6cd4c-fa52-431a-b30a-67740d3022e5",
   "metadata": {},
   "outputs": [
    {
     "name": "stdout",
     "output_type": "stream",
     "text": [
      "foor\n"
     ]
    }
   ],
   "source": [
    "print(txt)"
   ]
  },
  {
   "cell_type": "code",
   "execution_count": 32,
   "id": "ed95646c-cd68-402e-b65e-b03b5b04706e",
   "metadata": {},
   "outputs": [],
   "source": [
    "txt = txt[::-1]"
   ]
  },
  {
   "cell_type": "code",
   "execution_count": 33,
   "id": "3986f3c1-aa07-41ae-adbf-52396e927d71",
   "metadata": {},
   "outputs": [
    {
     "name": "stdout",
     "output_type": "stream",
     "text": [
      "foor\n"
     ]
    }
   ],
   "source": [
    "print(txt)"
   ]
  },
  {
   "cell_type": "code",
   "execution_count": 34,
   "id": "46f6bea9-cadd-45e5-9b26-3a15b31c1385",
   "metadata": {},
   "outputs": [
    {
     "data": {
      "text/plain": [
       "'4. Write a program that takes a string as input and checks if it is a palindrome\\n(reads the same forwards and backwards).'"
      ]
     },
     "execution_count": 34,
     "metadata": {},
     "output_type": "execute_result"
    }
   ],
   "source": [
    "'''4. Write a program that takes a string as input and checks if it is a palindrome\n",
    "(reads the same forwards and backwards).'''\n"
   ]
  },
  {
   "cell_type": "code",
   "execution_count": 6,
   "id": "21ecc9f9-83fc-40de-bf12-79bde448ccfb",
   "metadata": {},
   "outputs": [
    {
     "name": "stdin",
     "output_type": "stream",
     "text": [
      "Enter  the string  if it is palindrome ankita\n"
     ]
    }
   ],
   "source": [
    "txt2  = input('Enter  the string  if it is palindrome')"
   ]
  },
  {
   "cell_type": "code",
   "execution_count": 7,
   "id": "bb6c853a-9c81-474b-8ec6-b2a9a2f827ee",
   "metadata": {},
   "outputs": [
    {
     "name": "stdout",
     "output_type": "stream",
     "text": [
      "It is not Palindrome\n"
     ]
    }
   ],
   "source": [
    "if txt2 == txt2[::-1] :\n",
    "    print(\"It is Palindrome\")\n",
    "else :\n",
    "    print(\"It is not Palindrome\")    "
   ]
  },
  {
   "cell_type": "code",
   "execution_count": 9,
   "id": "41f1a065-3af2-44d2-90a9-fe3454bf4400",
   "metadata": {},
   "outputs": [
    {
     "data": {
      "text/plain": [
       "'5. Create a program that takes a string as input and removes all the spaces from\\nit. Print the modified string without spaces.'"
      ]
     },
     "execution_count": 9,
     "metadata": {},
     "output_type": "execute_result"
    }
   ],
   "source": [
    "'''5. Create a program that takes a string as input and removes all the spaces from\n",
    "it. Print the modified string without spaces.'''"
   ]
  },
  {
   "cell_type": "code",
   "execution_count": 22,
   "id": "453bb5fc-35b2-499e-a4c5-e5e88937ebe7",
   "metadata": {},
   "outputs": [
    {
     "name": "stdin",
     "output_type": "stream",
     "text": [
      "Enter the string A N KI TA\n"
     ]
    },
    {
     "data": {
      "text/plain": [
       "'ANKITA'"
      ]
     },
     "execution_count": 22,
     "metadata": {},
     "output_type": "execute_result"
    }
   ],
   "source": [
    "str4 = input(\"Enter the string\")\n",
    "str3 =str4.replace(\" \", \"\")\n",
    " \n",
    "str3\n"
   ]
  },
  {
   "cell_type": "code",
   "execution_count": null,
   "id": "c58606b4-9d93-4085-a514-537cb367e02e",
   "metadata": {},
   "outputs": [],
   "source": []
  }
 ],
 "metadata": {
  "kernelspec": {
   "display_name": "Python 3 (ipykernel)",
   "language": "python",
   "name": "python3"
  },
  "language_info": {
   "codemirror_mode": {
    "name": "ipython",
    "version": 3
   },
   "file_extension": ".py",
   "mimetype": "text/x-python",
   "name": "python",
   "nbconvert_exporter": "python",
   "pygments_lexer": "ipython3",
   "version": "3.10.8"
  }
 },
 "nbformat": 4,
 "nbformat_minor": 5
}
